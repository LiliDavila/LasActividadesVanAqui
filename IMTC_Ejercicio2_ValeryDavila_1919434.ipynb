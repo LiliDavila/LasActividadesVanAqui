{
  "nbformat": 4,
  "nbformat_minor": 0,
  "metadata": {
    "colab": {
      "name": "IMTC_Ejercicio2_ValeryDavila_1919434.ipynb",
      "provenance": [],
      "authorship_tag": "ABX9TyPaHA/VyePWeJwyJprrCJT+",
      "include_colab_link": true
    },
    "kernelspec": {
      "name": "python3",
      "display_name": "Python 3"
    },
    "language_info": {
      "name": "python"
    }
  },
  "cells": [
    {
      "cell_type": "markdown",
      "metadata": {
        "id": "view-in-github",
        "colab_type": "text"
      },
      "source": [
        "<a href=\"https://colab.research.google.com/github/LiliDavila/LasActividadesVanAqui/blob/main/IMTC_Ejercicio2_ValeryDavila_1919434.ipynb\" target=\"_parent\"><img src=\"https://colab.research.google.com/assets/colab-badge.svg\" alt=\"Open In Colab\"/></a>"
      ]
    },
    {
      "cell_type": "markdown",
      "source": [
        "A2: Ejercicios Básicos en Python\n",
        "Valery Monserrat Davila Guillen 1919434 IMTC N1\n",
        "# 2.Escribe una función que regrese el último elemento de una lista y que revierta el orden de la lista e imprima la lista revertida."
      ],
      "metadata": {
        "id": "FIj8QoaikC0o"
      }
    },
    {
      "cell_type": "code",
      "execution_count": null,
      "metadata": {
        "colab": {
          "base_uri": "https://localhost:8080/"
        },
        "id": "WDx2N2I2j05A",
        "outputId": "fbdffc2d-990a-4cfc-a156-12be1bf9b38c"
      },
      "outputs": [
        {
          "output_type": "stream",
          "name": "stdout",
          "text": [
            "['Melón', 'Uva', 'Manzana', 'Plátano']\n"
          ]
        }
      ],
      "source": [
        "Frutas = [\"Plátano\", \"Manzana\", \"Uva\", \"Melón\"]\n",
        "#Con esta funcion regresamos el ultimo producto de la lista \n",
        "ListaNueva = Frutas[::-1]\n",
        "print(ListaNueva)"
      ]
    }
  ]
}