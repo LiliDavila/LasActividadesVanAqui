{
  "nbformat": 4,
  "nbformat_minor": 0,
  "metadata": {
    "colab": {
      "name": "IMTC_Ejercicio3_ValeryDavila_1919434.ipynb",
      "provenance": [],
      "authorship_tag": "ABX9TyMFTYZjxhlM6bJ95Ly9iM63",
      "include_colab_link": true
    },
    "kernelspec": {
      "name": "python3",
      "display_name": "Python 3"
    },
    "language_info": {
      "name": "python"
    }
  },
  "cells": [
    {
      "cell_type": "markdown",
      "metadata": {
        "id": "view-in-github",
        "colab_type": "text"
      },
      "source": [
        "<a href=\"https://colab.research.google.com/github/LiliDavila/LasActividadesVanAqui/blob/main/IMTC_Ejercicio3_ValeryDavila_1919434.ipynb\" target=\"_parent\"><img src=\"https://colab.research.google.com/assets/colab-badge.svg\" alt=\"Open In Colab\"/></a>"
      ]
    },
    {
      "cell_type": "markdown",
      "source": [
        "\n",
        "A2: Ejercicios Básicos en Python\n",
        "Valery Monserrat Davila Guillen 1919434 IMTC N1\n",
        "\n",
        "3.Escribe una función que tome una lista de strings y los imprima linea por linea en un marco rectangular."
      ],
      "metadata": {
        "id": "X3bRNrLDlTZd"
      }
    },
    {
      "cell_type": "code",
      "execution_count": 4,
      "metadata": {
        "colab": {
          "base_uri": "https://localhost:8080/"
        },
        "id": "2N7XaLnrlKSW",
        "outputId": "aec45c69-dca8-4aa9-eab4-4efd6a99e250"
      },
      "outputs": [
        {
          "output_type": "stream",
          "name": "stdout",
          "text": [
            "******************************************\n",
            "* Hola a todos los que llevan la materia *\n",
            "* Que aprendan mucho                     *\n",
            "*****************************************\n"
          ]
        }
      ],
      "source": [
        "def texto(words):\n",
        "  size = max(len(word)for word in words)\n",
        "  print(\"*\"*(size+3))\n",
        "  for i in words:\n",
        "#Imprimiendo esta funcion es que podemos agregar el marco \n",
        "    print(\"*\"+\" \"+i+\" \"*((size+3)-len(i)-2)+\"*\")\n",
        "  print(\"*\"*(size+3))\n",
        "\n",
        "texto([\"Hola a todos los que llevan la materia\", \"Que aprendan mucho\"])"
      ]
    },
    {
      "cell_type": "markdown",
      "source": [
        ""
      ],
      "metadata": {
        "id": "lyuR4zHAsoaU"
      }
    }
  ]
}