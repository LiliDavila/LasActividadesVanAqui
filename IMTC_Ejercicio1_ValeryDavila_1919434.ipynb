{
  "nbformat": 4,
  "nbformat_minor": 0,
  "metadata": {
    "colab": {
      "name": "IMTC_Ejercicio1_ValeryDavila_1919434.ipynb",
      "provenance": [],
      "authorship_tag": "ABX9TyPX1Ij2N+lrRsAo9BAb5JgV",
      "include_colab_link": true
    },
    "kernelspec": {
      "name": "python3",
      "display_name": "Python 3"
    },
    "language_info": {
      "name": "python"
    }
  },
  "cells": [
    {
      "cell_type": "markdown",
      "metadata": {
        "id": "view-in-github",
        "colab_type": "text"
      },
      "source": [
        "<a href=\"https://colab.research.google.com/github/LiliDavila/LasActividadesVanAqui/blob/main/IMTC_Ejercicio1_ValeryDavila_1919434.ipynb\" target=\"_parent\"><img src=\"https://colab.research.google.com/assets/colab-badge.svg\" alt=\"Open In Colab\"/></a>"
      ]
    },
    {
      "cell_type": "markdown",
      "source": [
        "A2: Ejercicios Básicos en Python\n",
        "Valery Monserrat Davila Guillen 1919434 IMTC N1\n",
        "\n",
        "1. Escribe un programa que le pida al usuario por su nombre y \n",
        "que lo salude con su nombre, excepto si se llama “Ana”, “Juan”, y “Pedro\n"
      ],
      "metadata": {
        "id": "SnQE3gPzzEgA"
      }
    },
    {
      "cell_type": "code",
      "source": [
        "print('What is your name?')   # ask for their name\n",
        "message = input()\n",
        "if (message == \"Ana\") or ( message == \"Juan\") or ( message == \"Pedro\"): \n",
        "  #condicional y respuesta si fuera el caso\n",
        "  print(\"I do not know him\")\n",
        "else:\n",
        "  print('It is good to meet you, {}'.format(message))\n"
      ],
      "metadata": {
        "colab": {
          "base_uri": "https://localhost:8080/"
        },
        "id": "McNlPrT0F8pK",
        "outputId": "50424ba5-1bf3-4cea-8424-d0d95ec01ed7"
      },
      "execution_count": 3,
      "outputs": [
        {
          "output_type": "stream",
          "name": "stdout",
          "text": [
            "What is your name?\n",
            "Ana\n",
            "I do not know him\n"
          ]
        }
      ]
    }
  ]
}