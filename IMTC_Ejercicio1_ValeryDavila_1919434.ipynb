{
  "nbformat": 4,
  "nbformat_minor": 0,
  "metadata": {
    "colab": {
      "name": "IMTC_Ejercicio1_ValeryDavila_1919434.ipynb",
      "provenance": [],
      "authorship_tag": "ABX9TyMponT282q3Ec7OYf46BgkM",
      "include_colab_link": true
    },
    "kernelspec": {
      "name": "python3",
      "display_name": "Python 3"
    },
    "language_info": {
      "name": "python"
    }
  },
  "cells": [
    {
      "cell_type": "markdown",
      "metadata": {
        "id": "view-in-github",
        "colab_type": "text"
      },
      "source": [
        "<a href=\"https://colab.research.google.com/github/LiliDavila/LasActividadesVanAqui/blob/main/IMTC_Ejercicio1_ValeryDavila_1919434.ipynb\" target=\"_parent\"><img src=\"https://colab.research.google.com/assets/colab-badge.svg\" alt=\"Open In Colab\"/></a>"
      ]
    },
    {
      "cell_type": "markdown",
      "source": [
        "1. Escribe un programa que le pida al usuario por su nombre y \n",
        "que lo salude con su nombre, excepto si se llama “Ana”, “Juan”, y “Pedro\n"
      ],
      "metadata": {
        "id": "SnQE3gPzzEgA"
      }
    },
    {
      "cell_type": "code",
      "source": [
        "print('What is your name?')   # ask for their name\n",
        "message = input()\n",
        "if (message == \"Ana\") or ( message == \"Juan\") or ( message == \"Pedro\"):\n",
        "  print(\"No te conozco\")\n",
        "else:\n",
        "  print('It is good to meet you, {}'.format(message))\n"
      ],
      "metadata": {
        "colab": {
          "base_uri": "https://localhost:8080/"
        },
        "id": "McNlPrT0F8pK",
        "outputId": "30f0e95c-c60b-43a1-adb7-52c86a34f9d5"
      },
      "execution_count": null,
      "outputs": [
        {
          "output_type": "stream",
          "name": "stdout",
          "text": [
            "What is your name?\n",
            "Ana\n",
            "No te conozco\n"
          ]
        }
      ]
    }
  ]
}